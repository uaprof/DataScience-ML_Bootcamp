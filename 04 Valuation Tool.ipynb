{
 "cells": [
  {
   "cell_type": "code",
   "execution_count": 1,
   "metadata": {},
   "outputs": [],
   "source": [
    "from sklearn.datasets import load_boston\n",
    "from sklearn.linear_model import LinearRegression\n",
    "from sklearn.metrics import mean_squared_error\n",
    "\n",
    "import pandas as pd\n",
    "import numpy as np"
   ]
  },
  {
   "cell_type": "code",
   "execution_count": 2,
   "metadata": {},
   "outputs": [],
   "source": [
    "# Gather Data\n",
    "boston_dataset = load_boston()\n",
    "data = pd.DataFrame(data=boston_dataset.data, columns=boston_dataset.feature_names)\n",
    "features = data.drop(['INDUS', 'AGE'], axis=1)\n",
    "\n",
    "log_prices = np.log(boston_dataset.target)\n",
    "target = pd.DataFrame(log_prices, columns=['PRICE'])"
   ]
  },
  {
   "cell_type": "code",
   "execution_count": 3,
   "metadata": {},
   "outputs": [],
   "source": [
    "CRIME_IDX = 0\n",
    "ZN_IDX = 1\n",
    "CHAS_IDX = 2\n",
    "RM_IDX = 4\n",
    "PTRATIO_IDX = 8\n",
    "\n",
    "#property_stats = np.ndarray(shape=(1,11))\n",
    "#property_stats[0][CRIME_IDX]=features['CRIM'].mean()\n",
    "#property_stats[0][ZN_IDX]=features['ZN'].mean()\n",
    "#property_stats[0][CHAS_IDX]=features['CHAS'].mean()\n",
    "#property_stats[0][RM_IDX]=0.02\n",
    "#property_stats[0][PTRATIO_IDX]=0.02\n",
    "\n",
    "property_stats = features.mean().values.reshape(1,11)"
   ]
  },
  {
   "cell_type": "code",
   "execution_count": 4,
   "metadata": {},
   "outputs": [],
   "source": [
    "regr = LinearRegression().fit(features, target)\n",
    "fitted_vals = regr.predict(features)\n",
    "mse = mean_squared_error(target, fitted_vals)\n",
    "rmse = np.sqrt(mse)\n"
   ]
  },
  {
   "cell_type": "code",
   "execution_count": 5,
   "metadata": {},
   "outputs": [],
   "source": [
    "def get_log_estimate(nr_rooms, \n",
    "                    students_per_classroom, \n",
    "                    next_to_river=False, \n",
    "                    high_confidence=True):\n",
    "    \n",
    "    # Configure property\n",
    "    property_stats[0][RM_IDX] = nr_rooms\n",
    "    property_stats[0][PTRATIO_IDX] = students_per_classroom\n",
    "    \n",
    "    if next_to_river:\n",
    "        property_stats[0][CHAS_IDX] = 1\n",
    "    else:\n",
    "        property_stats[0][CHAS_IDX] = 0\n",
    "\n",
    "    # Make prediction\n",
    "    log_estimate = regr.predict(property_stats)[0][0]\n",
    "    \n",
    "    # Calc Range\n",
    "    if high_confidence:\n",
    "        upper_bound = log_estimate + 2*rmse\n",
    "        lower_bound = log_estimate - 2*rmse\n",
    "        interval = 95\n",
    "    else:\n",
    "        upper_bound = log_estimate + rmse\n",
    "        lower_bound = log_estimate - rmse\n",
    "        interval = 68\n",
    "    \n",
    "    return log_estimate, upper_bound, lower_bound, interval"
   ]
  },
  {
   "cell_type": "code",
   "execution_count": 6,
   "metadata": {},
   "outputs": [
    {
     "data": {
      "text/plain": [
       "(2.7767581914803987, 2.964270326677529, 2.5892460562832684, 68)"
      ]
     },
     "execution_count": 6,
     "metadata": {},
     "output_type": "execute_result"
    }
   ],
   "source": [
    "get_log_estimate(3,20, next_to_river=True, high_confidence=False)"
   ]
  },
  {
   "cell_type": "code",
   "execution_count": 7,
   "metadata": {},
   "outputs": [
    {
     "data": {
      "text/plain": [
       "21.2"
      ]
     },
     "execution_count": 7,
     "metadata": {},
     "output_type": "execute_result"
    }
   ],
   "source": [
    "np.median(boston_dataset.target)"
   ]
  },
  {
   "cell_type": "code",
   "execution_count": 8,
   "metadata": {},
   "outputs": [
    {
     "name": "stdout",
     "output_type": "stream",
     "text": [
      "The estimated property value is 827000.0\n",
      "At the 68% confedence the valuation range is\n",
      "USD 685000.0 at the lower end to USD 997000.0 at the high end.\n"
     ]
    }
   ],
   "source": [
    "ZILLOW_MEDIAN_PRICE = 583.3\n",
    "SCALE = ZILLOW_MEDIAN_PRICE / np.median(boston_dataset.target)\n",
    "\n",
    "log_est, upper, lower, conf = get_log_estimate(9, students_per_classroom=15, \n",
    "                                               next_to_river=False, high_confidence=False)\n",
    "\n",
    "doll_est = round(np.e**log_est * 1000 * SCALE, -3)\n",
    "doll_upp = round(np.e**upper * 1000 * SCALE, -3)\n",
    "doll_low = round(np.e**lower * 1000 * SCALE, -3)\n",
    "\n",
    "print(f'The estimated property value is {doll_est}')\n",
    "print(f'At the {conf}% confedence the valuation range is')\n",
    "print(f'USD {doll_low} at the lower end to USD {doll_upp} at the high end.')"
   ]
  },
  {
   "cell_type": "code",
   "execution_count": 9,
   "metadata": {},
   "outputs": [],
   "source": [
    "def get_dollar_estimate(rm, ptratio, chas=False, large_range=True):\n",
    "    \"\"\"Estimate the price of property in Boston\n",
    "    \n",
    "    Keyword arguments:\n",
    "    rm -- number of rooms in the property\n",
    "    ptratio -- number of students\n",
    "    chas -- near river or not\n",
    "    large_range --\n",
    "    \n",
    "    \"\"\"\n",
    "    \n",
    "    \n",
    "    if rm <1 or ptratio < 1:\n",
    "        print('That is unreal. Try again')\n",
    "        return\n",
    "    \n",
    "    log_est, upper, lower, conf = get_log_estimate(rm, students_per_classroom=ptratio, \n",
    "                                               next_to_river=chas, high_confidence=large_range)\n",
    "\n",
    "    doll_est = round(np.e**log_est * 1000 * SCALE, -3)\n",
    "    doll_upp = round(np.e**upper * 1000 * SCALE, -3)\n",
    "    doll_low = round(np.e**lower * 1000 * SCALE, -3)\n",
    "\n",
    "    print(f'The estimated property value is {doll_est}')\n",
    "    print(f'At the {conf}% confedence the valuation range is')\n",
    "    print(f'USD {doll_low} at the lower end to USD {doll_upp} at the high end.')\n",
    "    "
   ]
  },
  {
   "cell_type": "code",
   "execution_count": 10,
   "metadata": {},
   "outputs": [
    {
     "name": "stdout",
     "output_type": "stream",
     "text": [
      "The estimated property value is 754000.0\n",
      "At the 95% confedence the valuation range is\n",
      "USD 518000.0 at the lower end to USD 1097000.0 at the high end.\n"
     ]
    }
   ],
   "source": [
    "get_dollar_estimate(rm=6, ptratio=13, chas=True)"
   ]
  },
  {
   "cell_type": "code",
   "execution_count": 11,
   "metadata": {},
   "outputs": [],
   "source": [
    "import boston_valuation as val"
   ]
  },
  {
   "cell_type": "code",
   "execution_count": 13,
   "metadata": {},
   "outputs": [
    {
     "name": "stdout",
     "output_type": "stream",
     "text": [
      "The estimated property value is 857000.0\n",
      "At the 95% confedence the valuation range is\n",
      "USD 589000.0 at the lower end to USD 1247000.0 at the high end.\n"
     ]
    }
   ],
   "source": [
    "val.get_dollar_estimate(7,12,True)"
   ]
  },
  {
   "cell_type": "code",
   "execution_count": null,
   "metadata": {},
   "outputs": [],
   "source": []
  },
  {
   "cell_type": "code",
   "execution_count": null,
   "metadata": {},
   "outputs": [],
   "source": []
  },
  {
   "cell_type": "code",
   "execution_count": null,
   "metadata": {},
   "outputs": [],
   "source": []
  }
 ],
 "metadata": {
  "kernelspec": {
   "display_name": "Python 3",
   "language": "python",
   "name": "python3"
  },
  "language_info": {
   "codemirror_mode": {
    "name": "ipython",
    "version": 3
   },
   "file_extension": ".py",
   "mimetype": "text/x-python",
   "name": "python",
   "nbconvert_exporter": "python",
   "pygments_lexer": "ipython3",
   "version": "3.7.6"
  }
 },
 "nbformat": 4,
 "nbformat_minor": 4
}
